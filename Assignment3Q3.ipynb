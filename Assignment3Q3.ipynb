{
 "cells": [
  {
   "cell_type": "code",
   "execution_count": 1,
   "metadata": {},
   "outputs": [
    {
     "name": "stdout",
     "output_type": "stream",
     "text": [
      "Upper case : 3\n",
      "Lower case : 12\n"
     ]
    }
   ],
   "source": [
    "def count(string):\n",
    "    uppercasecount = 0\n",
    "    lowercasecount = 0\n",
    "    for i in string:\n",
    "        if i.isupper():\n",
    "            uppercasecount += 1\n",
    "        elif i.islower():\n",
    "            lowercasecount += 1\n",
    "\n",
    "    return uppercasecount, lowercasecount\n",
    "\n",
    "samplestring = 'The quick Brow Fox'\n",
    "uppercasecount, lowercasecount = count(samplestring)\n",
    "print(\"Upper case :\", uppercasecount)\n",
    "print(\"Lower case :\", lowercasecount)\n"
   ]
  }
 ],
 "metadata": {
  "kernelspec": {
   "display_name": "Python 3",
   "language": "python",
   "name": "python3"
  },
  "language_info": {
   "codemirror_mode": {
    "name": "ipython",
    "version": 3
   },
   "file_extension": ".py",
   "mimetype": "text/x-python",
   "name": "python",
   "nbconvert_exporter": "python",
   "pygments_lexer": "ipython3",
   "version": "3.11.4"
  },
  "orig_nbformat": 4
 },
 "nbformat": 4,
 "nbformat_minor": 2
}
