{
 "cells": [
  {
   "cell_type": "code",
   "execution_count": null,
   "metadata": {},
   "outputs": [],
   "source": [
    "def summation(samplelist):\n",
    "    sum=0\n",
    "    for i in samplelist:\n",
    "        sum=sum+i\n",
    "    return sum\n",
    "samplelist=[8,2,3,0,7]\n",
    "result=summation(samplelist)    \n",
    "print(result)"
   ]
  }
 ],
 "metadata": {
  "language_info": {
   "name": "python"
  },
  "orig_nbformat": 4
 },
 "nbformat": 4,
 "nbformat_minor": 2
}
