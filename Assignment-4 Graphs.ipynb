{
 "cells": [
  {
   "cell_type": "code",
   "execution_count": null,
   "metadata": {},
   "outputs": [],
   "source": [
    "def is_safe(board, row, col, n):\n",
    "    for i in range(col):\n",
    "        if board[row][i] == 1:\n",
    "            return False\n",
    "    for i, j in zip(range(row, -1, -1), range(col, -1, -1)):\n",
    "        if board[i][j] == 1:\n",
    "            return False\n",
    "    for i, j in zip(range(row, n, 1), range(col, -1, -1)):\n",
    "        if board[i][j] == 1:\n",
    "            return False\n",
    "    return True\n",
    "\n",
    "def solve_n_queens(n):\n",
    "    board = [[0] * n for _ in range(n)]\n",
    "    if not solve_n_queens_util(board, 0, n):\n",
    "        print(\"No solution exists.\")\n",
    "    else:\n",
    "        print_board(board)\n",
    "\n",
    "def solve_n_queens_util(board, col, n):\n",
    "    if col == n:\n",
    "        return True\n",
    "    for i in range(n):\n",
    "        if is_safe(board, i, col, n):\n",
    "            board[i][col] = 1\n",
    "            if solve_n_queens_util(board, col + 1, n):\n",
    "                return True\n",
    "            board[i][col] = 0\n",
    "    return False\n",
    "\n",
    "def print_board(board):\n",
    "    for row in board:\n",
    "        print(\" \".join([\"Q\" if cell == 1 else \".\" for cell in row]))\n",
    "\n",
    "n = 8\n",
    "solve_n_queens(n)\n"
   ]
  }
 ],
 "metadata": {
  "language_info": {
   "name": "python"
  }
 },
 "nbformat": 4,
 "nbformat_minor": 2
}
