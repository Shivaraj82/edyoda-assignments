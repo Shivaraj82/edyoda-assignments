{
 "cells": [
  {
   "cell_type": "code",
   "execution_count": 3,
   "metadata": {},
   "outputs": [
    {
     "name": "stdout",
     "output_type": "stream",
     "text": [
      "Merge Sorted List: [1, 2, 3, 4, 5, 6, 7, 8, 9]\n",
      "Quick Sorted List: [5, 2, 9, 3, 6, 1, 8, 4, 7]\n",
      "Insertion Sorted List: [1, 2, 3, 4, 5, 6, 7, 8, 9]\n",
      "Sorted String List: ['apple', 'banana', 'cherry', 'date', 'grape']\n"
     ]
    }
   ],
   "source": [
    "def binary_search(arr, target):\n",
    "    left, right = 0, len(arr) - 1\n",
    "    while left <= right:\n",
    "        mid = (left + right) // 2\n",
    "        if arr[mid] == target:\n",
    "            return mid  \n",
    "        elif arr[mid] < target:\n",
    "            left = mid + 1\n",
    "        else:\n",
    "            right = mid - 1\n",
    "    return -1  \n",
    "\n",
    "def merge_sort(arr):\n",
    "    if len(arr) <= 1:\n",
    "        return arr\n",
    "    mid = len(arr) // 2\n",
    "    left_half = arr[:mid]\n",
    "    right_half = arr[mid:]\n",
    "    left_half = merge_sort(left_half)\n",
    "    right_half = merge_sort(right_half)\n",
    "    return merge(left_half, right_half)\n",
    "\n",
    "def merge(left, right):\n",
    "    result = []\n",
    "    i = j = 0\n",
    "    while i < len(left) and j < len(right):\n",
    "        if left[i] < right[j]:\n",
    "            result.append(left[i])\n",
    "            i += 1\n",
    "        else:\n",
    "            result.append(right[j])\n",
    "            j += 1\n",
    "    result.extend(left[i:])\n",
    "    result.extend(right[j:])\n",
    "    return result\n",
    "\n",
    "def quick_sort(arr):\n",
    "    if len(arr) <= 1:\n",
    "        return arr\n",
    "    pivot = arr[len(arr) // 2]\n",
    "    left = [x for x in arr if x < pivot]\n",
    "    middle = [x for x in arr if x == pivot]\n",
    "    right = [x for x in arr if x > pivot]\n",
    "    return quick_sort(left) + middle + quick_sort(right)\n",
    "\n",
    "def insertion_sort(arr):\n",
    "    for i in range(1, len(arr)):\n",
    "        key = arr[i]\n",
    "        j = i - 1\n",
    "        while j >= 0 and key < arr[j]:\n",
    "            arr[j + 1] = arr[j]\n",
    "            j -= 1\n",
    "        arr[j + 1] = key\n",
    "\n",
    "def sort_list_of_strings(strings):\n",
    "    return sorted(strings)\n",
    "\n",
    "sample_list = [5, 2, 9, 3, 6, 1, 8, 4, 7]\n",
    "sorted_list = merge_sort(sample_list)\n",
    "print(\"Merge Sorted List:\", sorted_list)\n",
    "\n",
    "sample_list = [5, 2, 9, 3, 6, 1, 8, 4, 7]\n",
    "quick_sort(sample_list)\n",
    "print(\"Quick Sorted List:\", sample_list)\n",
    "\n",
    "sample_list = [5, 2, 9, 3, 6, 1, 8, 4, 7]\n",
    "insertion_sort(sample_list)\n",
    "print(\"Insertion Sorted List:\", sample_list)\n",
    "\n",
    "string_list = [\"apple\", \"banana\", \"cherry\", \"date\", \"grape\"]\n",
    "sorted_string_list = sort_list_of_strings(string_list)\n",
    "print(\"Sorted String List:\", sorted_string_list)\n"
   ]
  }
 ],
 "metadata": {
  "kernelspec": {
   "display_name": "Python 3",
   "language": "python",
   "name": "python3"
  },
  "language_info": {
   "codemirror_mode": {
    "name": "ipython",
    "version": 3
   },
   "file_extension": ".py",
   "mimetype": "text/x-python",
   "name": "python",
   "nbconvert_exporter": "python",
   "pygments_lexer": "ipython3",
   "version": "3.11.4"
  }
 },
 "nbformat": 4,
 "nbformat_minor": 2
}
