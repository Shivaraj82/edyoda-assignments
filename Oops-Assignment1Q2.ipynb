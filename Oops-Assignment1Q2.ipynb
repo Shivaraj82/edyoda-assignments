{
 "cells": [
  {
   "cell_type": "code",
   "execution_count": 2,
   "metadata": {},
   "outputs": [
    {
     "name": "stdout",
     "output_type": "stream",
     "text": [
      "Indian states and their capitals have been written to 'indian_states.json'.\n"
     ]
    }
   ],
   "source": [
    "import json\n",
    "indian_states_and_capitals = {\n",
    "    \"Telangana\":\"Hyderabad\",\n",
    "    \"Andhra Pradesh\": \"Amaravati\",\n",
    "    \"Tamil Nadu\": \"Chennai\",\n",
    "    \"Karnataka\": \"Bengaluru\",\n",
    "    \"Maharashtra\": \"Mumbai\",\n",
    "    \"Uttar Pradesh\": \"Lucknow\",\n",
    "    \"Rajasthan\": \"Jaipur\",\n",
    "}\n",
    "with open('indian_states.json', 'w') as file:\n",
    "    json.dump(indian_states_and_capitals, file, indent=4)\n",
    "\n",
    "print(\"Indian states and their capitals have been written to 'indian_states.json'.\")\n"
   ]
  }
 ],
 "metadata": {
  "kernelspec": {
   "display_name": "Python 3",
   "language": "python",
   "name": "python3"
  },
  "language_info": {
   "codemirror_mode": {
    "name": "ipython",
    "version": 3
   },
   "file_extension": ".py",
   "mimetype": "text/x-python",
   "name": "python",
   "nbconvert_exporter": "python",
   "pygments_lexer": "ipython3",
   "version": "3.11.4"
  },
  "orig_nbformat": 4
 },
 "nbformat": 4,
 "nbformat_minor": 2
}
