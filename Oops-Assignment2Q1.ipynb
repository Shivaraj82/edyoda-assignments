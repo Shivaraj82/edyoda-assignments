{
 "cells": [
  {
   "cell_type": "code",
   "execution_count": 3,
   "metadata": {},
   "outputs": [
    {
     "name": "stdout",
     "output_type": "stream",
     "text": [
      "tommy is 2 years old.\n",
      "tommy has a white and grey coat.\n",
      "tommy barks loudly.\n",
      "tommy is a Jack Russell Terrier with excellent hunting skills.\n",
      "elley is 4 years old.\n",
      "elley has a gray coat.\n",
      "elley the Bulldog is known for its loud snoring.\n",
      "elley has a strength level of strong.\n"
     ]
    }
   ],
   "source": [
    "class Dog:\n",
    "    def __init__(self, name, age, coat_color):\n",
    "        self.name = name\n",
    "        self.age = age\n",
    "        self.coat_color = coat_color\n",
    "\n",
    "    def description(self):\n",
    "        print(f\"{self.name} is {self.age} years old.\")\n",
    "\n",
    "    def get_info(self):\n",
    "        print(f\"{self.name} has a {self.coat_color} coat.\")\n",
    "\n",
    "class JackRussellTerrier(Dog):\n",
    "    def __init__(self, name, age, coat_color, hunting_skill):\n",
    "        super().__init__(name, age, coat_color)\n",
    "        self.hunting_skill = hunting_skill\n",
    "\n",
    "    def bark(self):\n",
    "        print(f\"{self.name} barks loudly.\")\n",
    "\n",
    "    def hunt(self):\n",
    "        print(f\"{self.name} is a Jack Russell Terrier with {self.hunting_skill} hunting skills.\")\n",
    "\n",
    "class Bulldog(Dog):\n",
    "    def __init__(self, name, age, coat_color, strength):\n",
    "        super().__init__(name, age, coat_color)\n",
    "        self.strength = strength\n",
    "\n",
    "    def snore(self):\n",
    "        print(f\"{self.name} the Bulldog is known for its loud snoring.\")\n",
    "\n",
    "    def show_strength(self):\n",
    "        print(f\"{self.name} has a strength level of {self.strength}.\")\n",
    "\n",
    "jack = JackRussellTerrier(\"tommy\", 2, \"white and grey\", \"excellent\")\n",
    "\n",
    "bruno = Bulldog(\"elley\", 4, \"gray\", \"strong\")\n",
    "\n",
    "jack.description()\n",
    "jack.get_info()\n",
    "jack.bark()\n",
    "jack.hunt()\n",
    "\n",
    "bruno.description()\n",
    "bruno.get_info()\n",
    "bruno.snore()\n",
    "bruno.show_strength()\n"
   ]
  }
 ],
 "metadata": {
  "kernelspec": {
   "display_name": "Python 3",
   "language": "python",
   "name": "python3"
  },
  "language_info": {
   "codemirror_mode": {
    "name": "ipython",
    "version": 3
   },
   "file_extension": ".py",
   "mimetype": "text/x-python",
   "name": "python",
   "nbconvert_exporter": "python",
   "pygments_lexer": "ipython3",
   "version": "3.11.4"
  },
  "orig_nbformat": 4
 },
 "nbformat": 4,
 "nbformat_minor": 2
}
