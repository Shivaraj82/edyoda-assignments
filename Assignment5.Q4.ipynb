{
 "cells": [
  {
   "cell_type": "code",
   "execution_count": 2,
   "metadata": {},
   "outputs": [
    {
     "name": "stdout",
     "output_type": "stream",
     "text": [
      "Account Title: virat kohli\n",
      "Account Balance: 5000\n",
      "Savings Account Title: virat kohli\n",
      "Savings Account Balance: 5000\n",
      "Interest Rate: 5\n"
     ]
    }
   ],
   "source": [
    "class Account:\n",
    "    def __init__(self, title, balance=0):\n",
    "        self.title = title\n",
    "        self.balance = balance\n",
    "\n",
    "class SavingsAccount(Account):\n",
    "    def __init__(self, title, balance=0, interestRate=0):\n",
    "        super().__init__(title, balance)\n",
    "        self.interestRate = interestRate\n",
    "\n",
    "account1 = Account(\"virat kohli\", 5000)\n",
    "print(\"Account Title:\", account1.title)\n",
    "print(\"Account Balance:\", account1.balance)\n",
    "\n",
    "account2 = SavingsAccount(\"virat kohli\", 5000, 5)\n",
    "print(\"Savings Account Title:\", account2.title)\n",
    "print(\"Savings Account Balance:\", account2.balance)\n",
    "print(\"Interest Rate:\", account2.interestRate)\n"
   ]
  }
 ],
 "metadata": {
  "kernelspec": {
   "display_name": "Python 3",
   "language": "python",
   "name": "python3"
  },
  "language_info": {
   "codemirror_mode": {
    "name": "ipython",
    "version": 3
   },
   "file_extension": ".py",
   "mimetype": "text/x-python",
   "name": "python",
   "nbconvert_exporter": "python",
   "pygments_lexer": "ipython3",
   "version": "3.11.4"
  },
  "orig_nbformat": 4
 },
 "nbformat": 4,
 "nbformat_minor": 2
}
